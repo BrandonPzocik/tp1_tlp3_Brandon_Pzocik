{
 "cells": [
  {
   "cell_type": "markdown",
   "metadata": {},
   "source": [
    "# Criterios de evaluación.\n",
    "\n",
    "* Se deben utilizar nombres de variables descriptivos y claros (Utilizar la nomeclatura correspondiente para los nombres de variables).\n",
    "* Comentarios claros y concisos que expliquen el propósito de cada sección del código.\n",
    "* Entrega en tiempo y forma.\n",
    "* Todo el código desarrollado debe ser subido a un repositorio en GitHub (el nombre del repositorio de seguir la siguiente estructura: tp1_tlp3_nombre_apellido).\n",
    "\n",
    "\n",
    "**Aclaración: Para resolver las actividades se debe incertar casillas de codigo entre cada actividad del cuaderno de Jupyter**"
   ]
  },
  {
   "cell_type": "markdown",
   "metadata": {},
   "source": [
    "### 1. **Hola Mundo y Variables**\n",
    "\n",
    "   - **Actividad 1.1**: Deben escribir un programa que imprima \"¡Hola, Mundo!\" en la consola.\n",
    "   - **Actividad 1.2**: Deben crear una variable llamada `nombre` y hacer que el programa imprima un saludo personalizado: `Hola, <nombre>!`"
   ]
  },
  {
   "cell_type": "code",
   "execution_count": null,
   "metadata": {},
   "outputs": [
    {
     "name": "stdout",
     "output_type": "stream",
     "text": [
      "Hola Mundo\n",
      "Hola, Brandon!\n"
     ]
    }
   ],
   "source": [
    "\n",
    "# todo: Resolución\n",
    "print(\"Hola Mundo\")\n",
    "nombre = \"Brandon\"\n",
    "print(f\"Hola, {nombre}!\")"
   ]
  },
  {
   "cell_type": "markdown",
   "metadata": {},
   "source": [
    "### 2. **Operaciones Matemáticas Básicas**\n",
    "\n",
    "   - **Actividad 1.1**: Crear un programa que pida al usuario dos números y realice las cuatro operaciones matemáticas básicas (suma, resta, multiplicación y división), imprimiendo los resultados.\n",
    "   - **Actividad 1.2**: Hacer que el programa calcule el promedio de los dos números."
   ]
  },
  {
   "cell_type": "code",
   "execution_count": 3,
   "metadata": {},
   "outputs": [
    {
     "name": "stdout",
     "output_type": "stream",
     "text": [
      "primer numero: 10.0\n",
      "segundo numero: 4.0\n",
      "la suma es: 14.0\n",
      "la resta es: 6.0\n",
      "la multiplicación es: 40.0\n",
      "la division es: 2.5\n",
      "el promedio de los dos números es: 7.0\n"
     ]
    }
   ],
   "source": [
    "\n",
    "# todo: Resolución\n",
    "#1.1\n",
    "numero_1 = float(input(\"Ingrese el primer número:  \"))\n",
    "numero_2 = float(input(\"ingrese el segundo número: \"))\n",
    "\n",
    "suma = numero_1 + numero_2\n",
    "resta = numero_1 - numero_2\n",
    "multiplicacion = numero_1 * numero_2\n",
    "division = numero_1 / numero_2\n",
    "\n",
    "print(f\"primer numero: {numero_1}\")\n",
    "print(f\"segundo numero: {numero_2}\")\n",
    "\n",
    "print(f\"la suma es: {suma}\")\n",
    "print(f\"la resta es: {resta}\")\n",
    "print(f\"la multiplicación es: {multiplicacion}\")\n",
    "print(f\"la division es: {division}\")\n",
    "\n",
    "#1.2\n",
    "promedio = (numero_1 + numero_2) / 2 \n",
    "print(f\"el promedio de los dos números es: {promedio}\")"
   ]
  },
  {
   "cell_type": "markdown",
   "metadata": {},
   "source": [
    "### 3. **Condicionales (if-else)**\n",
    "\n",
    "   - **Actividad 1.1**: Escribir un programa que pida al usuario su edad y le diga si es mayor de edad (18 años o más).\n",
    "   - **Actividad 1.2**: Agregar un mensaje diferente para diferentes rangos de edad, como por ejemplo, si es un niño, adolescente o adulto."
   ]
  },
  {
   "cell_type": "code",
   "execution_count": null,
   "metadata": {},
   "outputs": [
    {
     "name": "stdout",
     "output_type": "stream",
     "text": [
      "Usted es mayor de edad\n",
      "usted es un adulto\n"
     ]
    }
   ],
   "source": [
    "\n",
    "# todo: Resolución\n",
    "#1.1\n",
    "edad = int(input(\"ingrese su edad:\"))\n",
    "\n",
    "if (edad >= 18):\n",
    "    print(\"Usted es mayor de edad\")\n",
    "else:\n",
    "    print(\"Usted es menor de edad\")\n",
    "\n",
    "#0-12 niño, 13-18 adolescencia, 19 en adelante adulto\n",
    "#1.2\n",
    "if (edad <= 12):\n",
    "    print(\"usted es un Niño\")\n",
    "elif(edad <= 18): \n",
    "    print(\"usted es un Adolescente\")\n",
    "else:\n",
    "    print(\"usted es un Adulto\")"
   ]
  },
  {
   "cell_type": "markdown",
   "metadata": {},
   "source": [
    "### 4. **Ciclos (while, for)**\n",
    "\n",
    "   - **Actividad 1.1**: Escribir un programa que imprima los números del 1 al 10 usando un bucle `for`.\n",
    "   - **Actividad 1.2**: Usar un bucle `while` para imprimir los números del 1 al 10, e imprimir solo aquellos números que sean divisibles por 2."
   ]
  },
  {
   "cell_type": "code",
   "execution_count": 1,
   "metadata": {},
   "outputs": [
    {
     "name": "stdout",
     "output_type": "stream",
     "text": [
      "1\n",
      "2\n",
      "3\n",
      "4\n",
      "5\n",
      "6\n",
      "7\n",
      "8\n",
      "9\n",
      "10\n",
      "1\n",
      "2 es divisible por 2\n",
      "3\n",
      "4 es divisible por 2\n",
      "5\n",
      "6 es divisible por 2\n",
      "7\n",
      "8 es divisible por 2\n",
      "9\n",
      "10 es divisible por 2\n"
     ]
    }
   ],
   "source": [
    "\n",
    "# todo: Resolución\n",
    "#1.1\n",
    "for iterador in range(1,11):\n",
    "    print(iterador)\n",
    "\n",
    "#1.2\n",
    "contador = 1\n",
    "while (contador <= 10):\n",
    "    if(contador % 2 == 0):\n",
    "        print(f\"{contador} es divisible por 2\")\n",
    "    else:\n",
    "        print(contador)\n",
    "    contador = contador +1"
   ]
  },
  {
   "cell_type": "markdown",
   "metadata": {},
   "source": [
    "### 5. **Listas y Bucles**\n",
    "\n",
    "   - **Actividad 1.1**: Crear una lista con 5 números y escribir un programa que imprima cada número de la lista usando un bucle `for`.\n",
    "   - **Actividad 1.2**: Usar un bucle para calcular la suma de los números de la lista."
   ]
  },
  {
   "cell_type": "code",
   "execution_count": 2,
   "metadata": {},
   "outputs": [
    {
     "name": "stdout",
     "output_type": "stream",
     "text": [
      "1\n",
      "10\n",
      "20\n",
      "30\n",
      "10\n",
      "la suma total de todo los numeros de la lista es 71\n"
     ]
    }
   ],
   "source": [
    "\n",
    "\n",
    "# todo: Resolución\n",
    "#1.1\n",
    "lista_num = [1, 10, 20, 30, 10]\n",
    "\n",
    "for num in lista_num:\n",
    "    print(num)\n",
    "\n",
    "#1.2 \n",
    "suma_num = 0\n",
    "for num in lista_num:\n",
    "   suma_num = suma_num + num # o mas facil pero para entender bien sum_num += num\n",
    "\n",
    "print(f\"la suma total de todo los numeros de la lista es {suma_num}\")"
   ]
  },
  {
   "cell_type": "markdown",
   "metadata": {},
   "source": [
    "### 6. **Funciones**\n",
    "\n",
    "   - **Actividad 1.1**: Escribir una función llamada `saludo` que reciba un nombre como parámetro y devuelva un saludo personalizado.\n",
    "   - **Actividad 1.2**: Crear una función que reciba dos números y devuelva su suma, resta, multiplicación y división."
   ]
  },
  {
   "cell_type": "code",
   "execution_count": 3,
   "metadata": {},
   "outputs": [
    {
     "name": "stdout",
     "output_type": "stream",
     "text": [
      "Hola Brandon, Bienvenido\n",
      "la suma es: 15\n",
      "la resta es: 5\n",
      "la multiplicacion es: 50\n",
      "la division es: 2.0\n"
     ]
    }
   ],
   "source": [
    "\n",
    "# todo: Resolución\n",
    "#1.1\n",
    "def saludo (nombre):\n",
    "    print(f\"Hola {nombre}, Bienvenido\")\n",
    "    \n",
    "saludo(\"Brandon\")\n",
    "\n",
    "#1.2\n",
    "def operando_num (num1, num2): \n",
    "    sum = num1 + num2\n",
    "    resta = num1 - num2 \n",
    "    multiplicacion = num1 * num2 \n",
    "    division = num1 / num2\n",
    "    #\\n es el salto de linea\n",
    "    print(f\"la suma es: {sum}\\n\"\n",
    "          f\"la resta es: {resta}\\n\"\n",
    "          f\"la multiplicacion es: {multiplicacion}\\n\"\n",
    "          f\"la division es: {division}\")\n",
    "\n",
    "operando_num(10, 5)"
   ]
  },
  {
   "cell_type": "markdown",
   "metadata": {},
   "source": [
    "### 7. **Manejo de cadenas de texto**\n",
    "\n",
    "   - **Actividad 1.1**: Escribir un programa que pida al usuario su nombre y lo imprima en mayúsculas y en minúsculas.\n",
    "   - **Actividad 1.2**: Hacer que el programa imprima la longitud del nombre ingresado (no tener en cuenta los espacios en blanco)."
   ]
  },
  {
   "cell_type": "code",
   "execution_count": 4,
   "metadata": {},
   "outputs": [
    {
     "name": "stdout",
     "output_type": "stream",
     "text": [
      "En mayuscula:DILAN\n",
      "En minuscula:dilan\n",
      "la longitud del nombre es: 5\n"
     ]
    }
   ],
   "source": [
    "#1.1\n",
    "nombre = input(\"ingrese su nombre:\")\n",
    "print(f\"En mayuscula:{nombre.upper()}\\n\"\n",
    "      f\"En minuscula:{nombre.lower()}\")\n",
    "\n",
    "#1.2 \n",
    "longitud_nombre = len(nombre.replace(\" \", \"\"))\n",
    "print(f\"la longitud del nombre es: {longitud_nombre}\")"
   ]
  },
  {
   "cell_type": "markdown",
   "metadata": {},
   "source": [
    "### 8. **Diccionarios**\n",
    "\n",
    "   - **Actividad1.1**: Crear un diccionario que contenga los nombres de tres personas como claves y sus edades como valores. El programa debe imprimir la edad de cada persona.\n",
    "   - **Actividad1.2**: Escribir un programa que pregunte al usuario un nombre, luego su edad y los agregue al diccionario."
   ]
  },
  {
   "cell_type": "code",
   "execution_count": 5,
   "metadata": {},
   "outputs": [
    {
     "name": "stdout",
     "output_type": "stream",
     "text": [
      "Brandon tiene 19 años\n",
      "Nazarena tiene 26 años\n",
      "Axel tiene 20 años\n",
      "brnaodn  tiene 19 años\n"
     ]
    }
   ],
   "source": [
    "\n",
    "# todo: Resolución\n",
    "#1.1\n",
    "personas = {\n",
    "    \"Brandon\": 19,\n",
    "    \"Nazarena\": 26,\n",
    "    \"Axel\": 20\n",
    "}\n",
    "#1.2\n",
    "nombre = input(\"¿Cuál es tu nombre?\")\n",
    "edad = int(input(\"¿Cuántos años tienes?\"))\n",
    "\n",
    "personas[nombre] = edad\n",
    "\n",
    "for nombre, edad in personas.items():\n",
    "    print(f\"{nombre} tiene {edad} años\")"
   ]
  },
  {
   "cell_type": "markdown",
   "metadata": {},
   "source": [
    "### 9. **Números aleatorios**\n",
    "\n",
    "   - **Actividad 1.1**: Escribir un programa que genere 5 números aleatorios entre 1 y 100, lo imprima por consola y diga si es mayor o menor a 50.\n",
    "   - **Actividad 1.2**: Sumar los 5 números generados aleatoriamente y en caso de que el resultado sea mayor a 100, mostrar el valor antes de ser mayor a 100 y cuantos números se sumaron para llegar a dicho valor."
   ]
  },
  {
   "cell_type": "code",
   "execution_count": 6,
   "metadata": {},
   "outputs": [
    {
     "name": "stdout",
     "output_type": "stream",
     "text": [
      "1 es menor a 50\n",
      "1 es menor a 50\n",
      "10 es menor a 50\n",
      "13 es menor a 50\n",
      "77 es mayor a 50\n",
      "la suma total antes de superar 100 es: 25\n",
      "se sumaron 4 numeros antes de superar los 100\n"
     ]
    }
   ],
   "source": [
    "\n",
    "# todo: Resolución\n",
    "#1.1\n",
    "import random\n",
    "sumar_total = 0\n",
    "numeros_sumados = 0\n",
    "for _ in range(5):\n",
    "    numero_aleatorio = random.randint(1, 100)\n",
    "    if (numero_aleatorio > 50):\n",
    "        print(f\"{numero_aleatorio} es mayor a 50\")\n",
    "    else:\n",
    "        print(f\"{numero_aleatorio} es menor a 50\")\n",
    "    \n",
    "    sumar_total = sumar_total + numero_aleatorio\n",
    "    numeros_sumados += 1\n",
    "    \n",
    "    if(sumar_total > 100):\n",
    "        print(f\"la suma total antes de superar 100 es: {sumar_total - numero_aleatorio}\")\n",
    "        print(f\"se sumaron {numeros_sumados -1 } numeros antes de superar los 100\")\n",
    "        break\n",
    "\n",
    "if (sumar_total <= 100):\n",
    "    print(f\"la suma total de los nuemros aleatorio es: {sumar_total}\")\n",
    "\n"
   ]
  },
  {
   "cell_type": "markdown",
   "metadata": {},
   "source": [
    "### 10. **Proyecto Final: Calculadora**\n",
    "\n",
    "   - **Actividad 1.1**: Los estudiantes deben crear una calculadora básica que permita realizar operaciones de suma, resta, multiplicación y división con entradas del usuario. El programa debe pedir al usuario que elija la operación y luego introducir 2 números para realizar el cálculo.\n",
    "   - **Actividad 1.2**: Implementar una opción para que el usuario pueda continuar haciendo cálculos o salir del programa."
   ]
  },
  {
   "cell_type": "code",
   "execution_count": null,
   "metadata": {},
   "outputs": [],
   "source": [
    "\n",
    "# todo: Resolución"
   ]
  },
  {
   "cell_type": "markdown",
   "metadata": {},
   "source": [
    "### EXTRA. **Juegos Simples (Adivina el número)**\n",
    "\n",
    "   - **Actividad 1.1**: Escribir un juego donde el programa elija un número aleatorio entre 1 y 100 y el usuario tenga que adivinarlo. El programa debe dar pistas si el número es mayor o menor.\n",
    "   - **Actividad 1.2**: Limitar el número de intentos y mostrar un mensaje de éxito o fracaso al final."
   ]
  }
 ],
 "metadata": {
  "kernelspec": {
   "display_name": "Python 3",
   "language": "python",
   "name": "python3"
  },
  "language_info": {
   "codemirror_mode": {
    "name": "ipython",
    "version": 3
   },
   "file_extension": ".py",
   "mimetype": "text/x-python",
   "name": "python",
   "nbconvert_exporter": "python",
   "pygments_lexer": "ipython3",
   "version": "3.12.9"
  }
 },
 "nbformat": 4,
 "nbformat_minor": 2
}
